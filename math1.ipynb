{
 "cells": [
  {
   "cell_type": "code",
   "execution_count": null,
   "id": "4fdb99d8",
   "metadata": {},
   "outputs": [],
   "source": [
    "1. Из колоды в 52 карты извлекаются случайным образом 4 карты."
   ]
  },
  {
   "cell_type": "code",
   "execution_count": null,
   "id": "f0aa6a3a",
   "metadata": {},
   "outputs": [],
   "source": [
    "a) Найти вероятность того, что все карты – крести."
   ]
  },
  {
   "cell_type": "code",
   "execution_count": null,
   "id": "64f62f3c",
   "metadata": {},
   "outputs": [],
   "source": [
    "В колоде из 52 листов 13 карт одной масти.\n",
    "Воспользуемся формулой подсчета количества сочетаний по k элементов из множества n. \n",
    "И классической формулой вероятности, где m-число благоприятных исходов, \n",
    "n-общее число всех исходов."
   ]
  },
  {
   "cell_type": "code",
   "execution_count": 6,
   "id": "ce2afa7d",
   "metadata": {},
   "outputs": [],
   "source": [
    "from math import factorial\n",
    "def combinations(n, k):\n",
    "    return int(factorial(n) / (factorial(k) * factorial(n - k))) "
   ]
  },
  {
   "cell_type": "code",
   "execution_count": 7,
   "id": "a6a68790",
   "metadata": {},
   "outputs": [
    {
     "name": "stdout",
     "output_type": "stream",
     "text": [
      "m = 715\n"
     ]
    }
   ],
   "source": [
    "m=combinations(13, 4)\n",
    "print(f'm = {m}')"
   ]
  },
  {
   "cell_type": "code",
   "execution_count": 8,
   "id": "e5ccbbbf",
   "metadata": {},
   "outputs": [
    {
     "name": "stdout",
     "output_type": "stream",
     "text": [
      "n = 270725\n"
     ]
    }
   ],
   "source": [
    "n=combinations(52, 4)\n",
    "print(f'n = {n}')"
   ]
  },
  {
   "cell_type": "code",
   "execution_count": 14,
   "id": "00a462b7",
   "metadata": {},
   "outputs": [
    {
     "name": "stdout",
     "output_type": "stream",
     "text": [
      "P(все 4 крести) = 0.2813\n"
     ]
    }
   ],
   "source": [
    "P=m/n\n",
    "print(f'P(все 4 крести) = {round(P,4)}')"
   ]
  },
  {
   "cell_type": "code",
   "execution_count": null,
   "id": "f6a08c25",
   "metadata": {},
   "outputs": [],
   "source": [
    "б) Найти вероятность, что среди 4-х карт окажется хотя бы один туз."
   ]
  },
  {
   "cell_type": "code",
   "execution_count": 10,
   "id": "2fa6ab92",
   "metadata": {},
   "outputs": [
    {
     "name": "stdout",
     "output_type": "stream",
     "text": [
      "n = 270725\n"
     ]
    }
   ],
   "source": [
    "n=combinations(52, 4)\n",
    "print(f'n = {n}')"
   ]
  },
  {
   "cell_type": "code",
   "execution_count": 11,
   "id": "63825fe2",
   "metadata": {},
   "outputs": [
    {
     "name": "stdout",
     "output_type": "stream",
     "text": [
      "m = 76145\n"
     ]
    }
   ],
   "source": [
    "m=sum([combinations(4,1)*combinations(48,3),combinations(4,2)*combinations(48,2),combinations(4,3)*combinations(48,1),1])\n",
    "print(f'm = {m}')"
   ]
  },
  {
   "cell_type": "code",
   "execution_count": 12,
   "id": "72eb182e",
   "metadata": {},
   "outputs": [
    {
     "name": "stdout",
     "output_type": "stream",
     "text": [
      "P(хотя бы 1 туз) = 0.2813\n"
     ]
    }
   ],
   "source": [
    "P=m/n\n",
    "print(f'P(хотя бы 1 туз) = {round(P,4)}')"
   ]
  },
  {
   "cell_type": "code",
   "execution_count": null,
   "id": "2181f78a",
   "metadata": {},
   "outputs": [],
   "source": [
    "Ответ:\n",
    "а) P(все 4 крести)=0.0026=0.26%\n",
    "б) P(хотя бы 1 туз)=0.2813=28.13%"
   ]
  },
  {
   "cell_type": "code",
   "execution_count": null,
   "id": "590b10b2",
   "metadata": {},
   "outputs": [],
   "source": [
    "2. На входной двери подъезда установлен кодовый замок, содержащий десять кнопок с цифрами от 0 до 9. \n",
    "Код содержит три цифры, которые нужно нажать одновременно. Какова вероятность того, что человек, не знающий код, \n",
    "откроет дверь с первой попытки?"
   ]
  },
  {
   "cell_type": "code",
   "execution_count": null,
   "id": "e7b011b7",
   "metadata": {},
   "outputs": [],
   "source": [
    "Так как кнопки нажимаются одновременно, то порядок не важен, и для формулы вероятности общее число исходов \n",
    "будет определяться количиством сочетаний 3-х элементов из 10, а количество благоприятных исходов = 1 - замок открылся."
   ]
  },
  {
   "cell_type": "code",
   "execution_count": 16,
   "id": "ce3e849f",
   "metadata": {},
   "outputs": [
    {
     "name": "stdout",
     "output_type": "stream",
     "text": [
      "P(открыть дверь с первой попытки) = 0.0083\n"
     ]
    }
   ],
   "source": [
    "P=1/combinations(10,3)\n",
    "print(f'P(открыть дверь с первой попытки) = {round(P,4)}')"
   ]
  },
  {
   "cell_type": "code",
   "execution_count": null,
   "id": "2ce58607",
   "metadata": {},
   "outputs": [],
   "source": [
    "Ответ:\n",
    "P(открыть дверь с первой попытки) = 0.0083=0.83%"
   ]
  },
  {
   "cell_type": "code",
   "execution_count": null,
   "id": "61254b69",
   "metadata": {},
   "outputs": [],
   "source": [
    "3. В ящике имеется 15 деталей, из которых 9 окрашены. Рабочий случайным образом извлекает 3 детали. \n",
    "Какова вероятность того, что все извлеченные детали окрашены?"
   ]
  },
  {
   "cell_type": "code",
   "execution_count": null,
   "id": "1e08e6c2",
   "metadata": {},
   "outputs": [],
   "source": [
    "Общее количество исходов будет определяться количеством сочетаний 3 деталей из 15, а количество благоприятных \n",
    "исходов - количеством сочетаний 3-х окрашенных деталей из 9. "
   ]
  },
  {
   "cell_type": "code",
   "execution_count": 18,
   "id": "fe4452b1",
   "metadata": {},
   "outputs": [
    {
     "name": "stdout",
     "output_type": "stream",
     "text": [
      "P(все детали окрашены) = 0.1846\n"
     ]
    }
   ],
   "source": [
    "P=combinations(9,3)/combinations(15,3)\n",
    "print(f'P(все детали окрашены) = {round(P,4)}')"
   ]
  },
  {
   "cell_type": "code",
   "execution_count": null,
   "id": "077bdd1a",
   "metadata": {},
   "outputs": [],
   "source": [
    "Ответ:\n",
    "P(все детали окрашены) = 0.1846=18.46%    "
   ]
  },
  {
   "cell_type": "code",
   "execution_count": null,
   "id": "7edbf630",
   "metadata": {},
   "outputs": [],
   "source": [
    "4. В лотерее 100 билетов. Из них 2 выигрышных. Какова вероятность того, что 2 приобретенных билета окажутся выигрышными?"
   ]
  },
  {
   "cell_type": "code",
   "execution_count": 20,
   "id": "1a9d0ea6",
   "metadata": {},
   "outputs": [
    {
     "name": "stdout",
     "output_type": "stream",
     "text": [
      "P(оба выигрышных) = 0.0002\n"
     ]
    }
   ],
   "source": [
    "P=1/combinations(100,2)\n",
    "print(f'P(оба выигрышных) = {round(P,4)}')"
   ]
  },
  {
   "cell_type": "code",
   "execution_count": null,
   "id": "563462d2",
   "metadata": {},
   "outputs": [],
   "source": [
    "Ответ:\n",
    "P(оба выигрышных) = 0.0002=0.02%"
   ]
  }
 ],
 "metadata": {
  "kernelspec": {
   "display_name": "Python 3 (ipykernel)",
   "language": "python",
   "name": "python3"
  },
  "language_info": {
   "codemirror_mode": {
    "name": "ipython",
    "version": 3
   },
   "file_extension": ".py",
   "mimetype": "text/x-python",
   "name": "python",
   "nbconvert_exporter": "python",
   "pygments_lexer": "ipython3",
   "version": "3.9.12"
  }
 },
 "nbformat": 4,
 "nbformat_minor": 5
}
