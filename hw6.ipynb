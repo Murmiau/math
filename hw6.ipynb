{
 "cells": [
  {
   "cell_type": "code",
   "execution_count": 13,
   "id": "ef6e71e4",
   "metadata": {},
   "outputs": [],
   "source": [
    "import numpy as np\n",
    "import math"
   ]
  },
  {
   "cell_type": "code",
   "execution_count": null,
   "id": "db30d456",
   "metadata": {},
   "outputs": [],
   "source": [
    "1. Известно, что генеральная совокупность распределена нормально со средним квадратическим отклонением, равным 16.\n",
    "Найти доверительный интервал для оценки математического ожидания a с надежностью 0.95, если выборочная средняя M = 80, \n",
    "а объем выборки n = 256."
   ]
  },
  {
   "cell_type": "code",
   "execution_count": 14,
   "id": "2c9a62e7",
   "metadata": {},
   "outputs": [
    {
     "name": "stdout",
     "output_type": "stream",
     "text": [
      "Доверительный интервал для оценки математического ожидания a с надежностью 0.95: [78.04, 81.96]\n"
     ]
    }
   ],
   "source": [
    "lambda_ = 0.95\n",
    "t_lambda_ = 1.96\n",
    "\n",
    "S = 16\n",
    "M = 80\n",
    "n = 256\n",
    "\n",
    "delta_ = t_lambda_ * S / math.sqrt(n)\n",
    "\n",
    "a, b = M - delta_, M + delta_\n",
    "\n",
    "print(f'Доверительный интервал для оценки математического ожидания a с надежностью 0.95: [{a}, {b}]')"
   ]
  },
  {
   "cell_type": "code",
   "execution_count": null,
   "id": "48a73d91",
   "metadata": {},
   "outputs": [],
   "source": [
    "2. В результате 10 независимых измерений некоторой величины X, выполненных с одинаковой точностью, получены опытные данные:\n",
    "6.9, 6.1, 6.2, 6.8, 7.5, 6.3, 6.4, 6.9, 6.7, 6.1\n",
    "Предполагая, что результаты измерений подчинены нормальному закону распределения вероятностей, оценить истинное значение \n",
    "величины X при помощи доверительного интервала, покрывающего это значение с доверительной вероятностью 0,95."
   ]
  },
  {
   "cell_type": "code",
   "execution_count": 15,
   "id": "29d8e7da",
   "metadata": {},
   "outputs": [
    {
     "name": "stdout",
     "output_type": "stream",
     "text": [
      "Доверительный интервал, покрывающий это значение с доверительной вероятностью 0,95: [6.32, 6.86]\n"
     ]
    }
   ],
   "source": [
    "lambda_ = 0.95\n",
    "t_lambda_ = 1.96\n",
    "\n",
    "X = [6.9, 6.1, 6.2, 6.8, 7.5, 6.3, 6.4, 6.9, 6.7, 6.1]\n",
    "S = np.std(X)\n",
    "M = np.mean(X)\n",
    "n = len(X)\n",
    "\n",
    "delta_ = t_lambda_ * S / math.sqrt(n)\n",
    "\n",
    "a, b = M - delta_, M + delta_\n",
    "\n",
    "print(f'Доверительный интервал, покрывающий это значение с доверительной вероятностью 0,95: [{a:.2f}, {b:.2f}]')"
   ]
  },
  {
   "cell_type": "code",
   "execution_count": null,
   "id": "0add278c",
   "metadata": {},
   "outputs": [],
   "source": [
    "3. Рост дочерей 175, 167, 154, 174, 178, 148, 160, 167, 169, 170\n",
    "Рост матерей  178, 165, 165, 173, 168, 155, 160, 164, 178, 175\n",
    "Используя эти данные построить 95% доверительный интервал для разности среднего роста родителей и детей."
   ]
  },
  {
   "cell_type": "code",
   "execution_count": 16,
   "id": "61965f10",
   "metadata": {},
   "outputs": [
    {
     "name": "stdout",
     "output_type": "stream",
     "text": [
      "95% доверительный интервал для разности среднего роста родителей и детей: [-6.27, 10.07]\n"
     ]
    }
   ],
   "source": [
    "mom = np.array([178, 165, 165, 173, 168, 155, 160, 164, 178, 175])\n",
    "daughter = np.array([175, 167, 154, 174, 178, 148, 160, 167, 169, 170])\n",
    "\n",
    "diff = np.mean(mom) - np.mean(daughter)\n",
    "standard_error = np.sqrt(np.var(mom, ddof=1)/len(mom) + np.var(daughter, ddof=1)/len(daughter))\n",
    "t_critical = stats.t.ppf(0.975, len(mom) + len(daughter) - 2)\n",
    "l_border = diff - t_critical * standard_error\n",
    "r_border = diff + t_critical * standard_error\n",
    "\n",
    "print(f'95% доверительный интервал для разности среднего роста родителей и детей: [{l_border:.2f}, {r_border:.2f}]')"
   ]
  }
 ],
 "metadata": {
  "kernelspec": {
   "display_name": "Python 3 (ipykernel)",
   "language": "python",
   "name": "python3"
  },
  "language_info": {
   "codemirror_mode": {
    "name": "ipython",
    "version": 3
   },
   "file_extension": ".py",
   "mimetype": "text/x-python",
   "name": "python",
   "nbconvert_exporter": "python",
   "pygments_lexer": "ipython3",
   "version": "3.9.12"
  }
 },
 "nbformat": 4,
 "nbformat_minor": 5
}
