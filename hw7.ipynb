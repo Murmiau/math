{
 "cells": [
  {
   "cell_type": "code",
   "execution_count": 1,
   "id": "562b76ed",
   "metadata": {},
   "outputs": [],
   "source": [
    "import numpy as np\n",
    "import scipy.stats as stats\n",
    "import matplotlib.pyplot as plt"
   ]
  },
  {
   "cell_type": "code",
   "execution_count": null,
   "id": "ef8b0ed6",
   "metadata": {},
   "outputs": [],
   "source": [
    "1 )  Даны две  независимые выборки. Не соблюдается условие нормальности\n",
    "x1  380,420, 290\n",
    "y1 140,360,200,900\n",
    "\n",
    "Сделайте вывод по результатам, полученным с помощью функции."
   ]
  },
  {
   "cell_type": "code",
   "execution_count": 13,
   "id": "a7361e8d",
   "metadata": {},
   "outputs": [
    {
     "name": "stdout",
     "output_type": "stream",
     "text": [
      "\n",
      "Statistics = 8.00 \n",
      "Р-value = 0.629\n",
      "Cтатистически значимых различий нет, не отвергаем нулевую гипотезу.\n"
     ]
    }
   ],
   "source": [
    "alpha = 0.05\n",
    "x= np.array([380, 420, 290])\n",
    "y= np.array([140, 360, 200, 900])\n",
    "d = stats.mannwhitneyu(x,y)\n",
    "print('\\nStatistics = %.2f \\nР-value = %.3f' % (d))\n",
    "s, p = stats.mannwhitneyu(x,y)\n",
    "if p > alpha:\n",
    "    print('Cтатистически значимых различий нет, не отвергаем нулевую гипотезу.')\n",
    "else:\n",
    "    print('Cтатистически значимые различия есть, отвергаем нулевую гипотезу.')"
   ]
  },
  {
   "cell_type": "code",
   "execution_count": null,
   "id": "3bd512a6",
   "metadata": {},
   "outputs": [],
   "source": [
    "2 ) Исследовалось влияние препарата на уровень давления пациентов. Сначала измерялось давление до приема препарата, потом через \n",
    "10 минут и через 30 минут. Есть ли статистически значимые различия?\n",
    "\n",
    "1е измерение до приема препарата: 150, 160, 165, 145, 155\n",
    "2е измерение через 10 минут: 140, 155, 150,  130, 135\n",
    "3е измерение через 30 минут: 130, 130, 120, 130, 125"
   ]
  },
  {
   "cell_type": "code",
   "execution_count": 12,
   "id": "21323803",
   "metadata": {},
   "outputs": [
    {
     "name": "stdout",
     "output_type": "stream",
     "text": [
      "\n",
      "Statistics = 9.58 \n",
      "Р-value = 0.008\n",
      "Cтатистически значимые различия есть, нулевую гипотезу отвергаем, препарат влияет на давление.\n"
     ]
    }
   ],
   "source": [
    "alpha=0.05\n",
    "x1=np.array([150, 160, 165, 145, 155])\n",
    "x2=np.array([140, 155, 150, 130, 135])\n",
    "x3=np.array([130, 130, 120, 130, 125])\n",
    "d = stats.friedmanchisquare(x1, x2, x3)\n",
    "print('\\nStatistics = %.2f \\nР-value = %.3f' % (d))\n",
    "s, p = stats.friedmanchisquare(x1, x2, x3)\n",
    "if p > alpha:\n",
    "    print('Cтатистически значимых различий нет, нулевую гипотезу не отвергаем, препарат не влияет на давление.')\n",
    "else:\n",
    "    print('Cтатистически значимые различия есть, нулевую гипотезу отвергаем, препарат влияет на давление.')"
   ]
  },
  {
   "cell_type": "code",
   "execution_count": null,
   "id": "105a4f2f",
   "metadata": {},
   "outputs": [],
   "source": [
    "3 ) Сравните 1 и 2 е измерения, предполагая, что 3го измерения через 30 минут не было."
   ]
  },
  {
   "cell_type": "code",
   "execution_count": 10,
   "id": "2bcb7a6a",
   "metadata": {},
   "outputs": [
    {
     "name": "stdout",
     "output_type": "stream",
     "text": [
      "\n",
      "Statistics = 0.00 \n",
      "Р-value = 0.062\n",
      "Cтатистически значимых различий нет, нулевую гипотезу не отвергаем, препарат не влияет на давление.\n"
     ]
    }
   ],
   "source": [
    "alpha=0.05\n",
    "x1=np.array([150, 160, 165, 145, 155])\n",
    "x2=np.array([140, 155, 150, 130, 135])\n",
    "d = stats.wilcoxon(x1, x2)\n",
    "print('\\nStatistics = %.2f \\nР-value = %.3f' % (d))\n",
    "s, p = stats.wilcoxon(x1, x2)\n",
    "if p > alpha:\n",
    "    print('Cтатистически значимых различий нет, нулевую гипотезу не отвергаем, препарат не влияет на давление.')\n",
    "else:\n",
    "    print('Cтатистически значимые различия есть, нулевую гипотезу отвергаем, препарат влияет на давление.')"
   ]
  },
  {
   "cell_type": "code",
   "execution_count": null,
   "id": "34a60267",
   "metadata": {},
   "outputs": [],
   "source": [
    "4) Даны 3 группы  учеников плавания.\n",
    "В 1 группе время на дистанцию 50 м составляют:\n",
    "56, 60, 62, 55, 71, 67, 59, 58, 64, 67\n",
    "\n",
    "Вторая группа : 57, 58, 69, 48, 72, 70, 68, 71, 50, 53\n",
    "Третья группа: 57, 67, 49, 48, 47, 55, 66, 51, 54"
   ]
  },
  {
   "cell_type": "code",
   "execution_count": 18,
   "id": "543e715a",
   "metadata": {},
   "outputs": [
    {
     "name": "stdout",
     "output_type": "stream",
     "text": [
      "\n",
      "Statistics = 5.47 \n",
      "Р-value = 0.065\n",
      "Cтатистически значимых различий нет, нулевую гипотезу не отвергаем, время на дистанцию одинаковое.\n"
     ]
    }
   ],
   "source": [
    "alpha=0.05\n",
    "x1=np.array([56, 60, 62, 55, 71, 67, 59, 58, 64, 67])\n",
    "x2=np.array([57, 58, 69, 48, 72, 70, 68, 71, 50, 53])\n",
    "x3=np.array([57, 67, 49, 48, 47, 55, 66, 51, 54])\n",
    "d = stats.kruskal(x1,x2,x3)\n",
    "print('\\nStatistics = %.2f \\nР-value = %.3f' % (d))\n",
    "s, p = stats.kruskal(x1,x2,x3)\n",
    "if p > alpha:\n",
    "    print('Cтатистически значимых различий нет, нулевую гипотезу не отвергаем, время на дистанцию одинаковое.')\n",
    "else:\n",
    "    print('Cтатистически значимые различия есть, нулевую гипотезу отвергаем, время на дистанцию не одинаковое.')"
   ]
  },
  {
   "cell_type": "code",
   "execution_count": null,
   "id": "348fab06",
   "metadata": {},
   "outputs": [],
   "source": [
    "5) Заявляется, что партия изготавливается со средним арифметическим 2,5 см. Проверить данную гипотезу, если известно, что \n",
    "размеры изделий подчинены нормальному закону распределения. Объем выборки 10, уровень статистической значимости 5%\n",
    "\n",
    "2.51, 2.35, 2.74, 2.56, 2.40, 2.36, 2.65, 2.7, 2.67, 2.34"
   ]
  },
  {
   "cell_type": "code",
   "execution_count": 17,
   "id": "22fe8f97",
   "metadata": {},
   "outputs": [
    {
     "name": "stdout",
     "output_type": "stream",
     "text": [
      "Нулевую гипотезу не отвергаем, партия изготавливается со средним арифметическим 2,5 см.\n"
     ]
    }
   ],
   "source": [
    "alpha = 0.05\n",
    "data = [2.51, 2.35, 2.74, 2.56, 2.40, 2.36, 2.65, 2.7, 2.67, 2.34]\n",
    "n = len(data)\n",
    "mean = np.mean(data)\n",
    "std = np.std(data, ddof=1)\n",
    "t_stat = (mean - 2.5) / (std / np.sqrt(10))\n",
    "t_critical = stats.t.ppf(1 - alpha, n-1)\n",
    "if t_stat < t_critical:\n",
    "    print(\"Нулевую гипотезу не отвергаем, партия изготавливается со средним арифметическим 2,5 см.\")\n",
    "else:\n",
    "    print(\"Нулевую гипотезу отвергаем, партия изготавливается со средним арифметическим не равным 2,5 см.\")"
   ]
  }
 ],
 "metadata": {
  "kernelspec": {
   "display_name": "Python 3 (ipykernel)",
   "language": "python",
   "name": "python3"
  },
  "language_info": {
   "codemirror_mode": {
    "name": "ipython",
    "version": 3
   },
   "file_extension": ".py",
   "mimetype": "text/x-python",
   "name": "python",
   "nbconvert_exporter": "python",
   "pygments_lexer": "ipython3",
   "version": "3.9.12"
  }
 },
 "nbformat": 4,
 "nbformat_minor": 5
}
