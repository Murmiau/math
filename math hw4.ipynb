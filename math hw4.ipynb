{
 "cells": [
  {
   "cell_type": "code",
   "execution_count": 27,
   "id": "13ddcee5",
   "metadata": {},
   "outputs": [
    {
     "data": {
      "text/plain": [
       "0"
      ]
     },
     "execution_count": 27,
     "metadata": {},
     "output_type": "execute_result"
    }
   ],
   "source": [
    "from math import sqrt\n",
    "from scipy.stats import norm\n",
    "from os import system\n",
    "system(\"cls\")"
   ]
  },
  {
   "cell_type": "code",
   "execution_count": null,
   "id": "41d1f893",
   "metadata": {},
   "outputs": [],
   "source": [
    "1. Случайная непрерывная величина A имеет равномерное распределение на промежутке (200, 800]. Найдите ее среднее значение \n",
    "и дисперсию."
   ]
  },
  {
   "cell_type": "code",
   "execution_count": 8,
   "id": "e4aaec63",
   "metadata": {},
   "outputs": [
    {
     "name": "stdout",
     "output_type": "stream",
     "text": [
      "На промежутке (200, 800]\n",
      "Среднее значение: М(А) =  500\n",
      "Дисперсия: D(A) =  30000\n"
     ]
    }
   ],
   "source": [
    "k = 200\n",
    "n = 800\n",
    "print(f'На промежутке ({k}, {n}]\\nСреднее значение: М(А) = {(k+n)/2: .0f}\\nДисперсия: D(A) = {((n-k)**2)/12: .0f}')"
   ]
  },
  {
   "cell_type": "code",
   "execution_count": null,
   "id": "db094b19",
   "metadata": {},
   "outputs": [],
   "source": [
    "2. О случайной непрерывной равномерно распределенной величине B известно, что ее дисперсия равна 0.2. Можно ли найти правую \n",
    "границу величины B и ее среднее значение зная, что левая граница равна 0.5? Если да, найдите ее."
   ]
  },
  {
   "cell_type": "code",
   "execution_count": 12,
   "id": "c1487ca1",
   "metadata": {},
   "outputs": [
    {
     "name": "stdout",
     "output_type": "stream",
     "text": [
      "Правая граница  величины В =  2.05\n",
      "Среднее значение величины В(0.5;  2.05) M(B) =  1.27\n"
     ]
    }
   ],
   "source": [
    "k = 0.5\n",
    "D = 0.2\n",
    "n = k+(D*12)**(1/2)\n",
    "print(f'Правая граница  величины В = {n: .2f}\\n'\n",
    "      f'Среднее значение величины В({k}; {n: .2f}) M(B) = {(n+0.5)/2: .2f}')"
   ]
  },
  {
   "cell_type": "code",
   "execution_count": null,
   "id": "a0fbfca5",
   "metadata": {},
   "outputs": [],
   "source": [
    "3. Непрерывная случайная величина X распределена нормально и задана плотностью распределения \n",
    "f(x) = (1 / (4 * sqrt(2pi))) * exp((-(x+2)**2) / 32)\n",
    "\n",
    "Найдите:\n",
    "а). M(X)\n",
    "б). D(X)\n",
    "в). std(X) (среднее квадратичное отклонение)"
   ]
  },
  {
   "cell_type": "code",
   "execution_count": 13,
   "id": "5e5b961d",
   "metadata": {},
   "outputs": [
    {
     "name": "stdout",
     "output_type": "stream",
     "text": [
      "M(x) = a = -2 \n",
      "std(x) = 4 \n",
      "D(x) = std(x)^2 = 16 \n",
      "\n"
     ]
    }
   ],
   "source": [
    "print('M(x) = a = -2 \\n'\n",
    "      'std(x) = 4 \\n'\n",
    "      'D(x) = std(x)^2 = 16 \\n')"
   ]
  },
  {
   "cell_type": "code",
   "execution_count": null,
   "id": "decb09ad",
   "metadata": {},
   "outputs": [],
   "source": [
    "4. Рост взрослого населения города X имеет нормальное распределение. Причем, средний рост равен 174 см, а среднее \n",
    "квадратичное отклонение равно 8 см.\n",
    "Какова вероятность того, что случайным образом выбранный взрослый человек имеет рост: \n",
    "а). больше 182 см \n",
    "б). больше 190 см \n",
    "в). от 166 см до 190 см \n",
    "г). от 166 см до 182 см \n",
    "д). от 158 см до 190 см \n",
    "е). не выше 150 см или не ниже 190 см \n",
    "ё). не выше 150 см или не ниже 198 см \n",
    "ж). ниже 166 см."
   ]
  },
  {
   "cell_type": "code",
   "execution_count": 26,
   "id": "b2ed4ed1",
   "metadata": {},
   "outputs": [
    {
     "name": "stdout",
     "output_type": "stream",
     "text": [
      "Вероятность того, что рост больше 182 см =  0.1587 =  15.87%\n",
      "Вероятность того, что роста больш 190 см =  0.0228 =  2.28%\n",
      "Вероятность того, что рост от 166 см до 190 см =  0.8186 =  81.86%\n",
      "Вероятность того, что рост от 166 см до 182 см =  0.6827 =  68.27%\n",
      "Вероятность того, что рост от 158 см до 190 см =  0.9545 =  95.45%\n",
      "Вероятность того, что роста не выше 150 см или не ниже 190 см =  0.0241 =  2.41%\n",
      "Вероятность того, что рост не выше 150 см или не ниже 198 см =  0.0027 =  0.27%\n",
      "Вероятность того, что рост ниже 166 см =  0.1587 =  15.87%\n"
     ]
    }
   ],
   "source": [
    "mu = 174\n",
    "sigma = 8\n",
    "\n",
    "a = 182\n",
    "pa = 1-norm.cdf(a, mu, sigma)\n",
    "print(f'Вероятность того, что рост больше {a} см = {pa: .4f} = {pa * 100: .2f}%')\n",
    "\n",
    "b = 190\n",
    "pb = 1-norm.cdf(b, mu, sigma)\n",
    "print(f'Вероятность того, что рост больше {b} см = {pb: .4f} = {pb * 100: .2f}%')\n",
    "\n",
    "c1, c2 = 166, 190\n",
    "pc = norm.cdf(c2, mu, sigma)-norm.cdf(c1, mu, sigma)\n",
    "print(f'Вероятность того, что рост от {c1} см до {c2} см = {pc: .4f} = {pc * 100: .2f}%')\n",
    "\n",
    "d1, d2 = 166, 182\n",
    "pd = norm.cdf(d2, mu, sigma)-norm.cdf(d1, mu, sigma)\n",
    "print(f'Вероятность того, что рост от {d1} см до {d2} см = {pd: .4f} = {pd * 100: .2f}%')\n",
    "\n",
    "e1, e2 = 158, 190\n",
    "pe = norm.cdf(e2, mu, sigma)-norm.cdf(e1, mu, sigma)\n",
    "print(f'Вероятность того, что рост от {e1} см до {e2} см = {pe: .4f} = {pe * 100: .2f}%')\n",
    "\n",
    "f1, f2 = 150, 190\n",
    "pf = norm.cdf(f1, mu, sigma)+1-norm.cdf(f2, mu, sigma)\n",
    "print(f'Вероятность того, что роста не выше {f1} см или не ниже {f2} см = {pf: .4f} = {pf * 100: .2f}%')\n",
    "\n",
    "g1, g2 = 150, 198\n",
    "pg = norm.cdf(g1, mu, sigma)+1-norm.cdf(g2, mu, sigma)\n",
    "print(\n",
    "    f'Вероятность того, что рост не выше {g1} см или не ниже {g2} см = {pg: .4f} = {pg * 100: .2f}%')\n",
    "\n",
    "h = 166\n",
    "ph = norm.cdf(h, mu, sigma)\n",
    "print(f'Вероятность того, что рост ниже {h} см = {ph: .4f} = {ph * 100: .2f}%')"
   ]
  },
  {
   "cell_type": "code",
   "execution_count": null,
   "id": "e5e34a77",
   "metadata": {},
   "outputs": [],
   "source": [
    "5. На сколько сигм (средних квадратичных отклонений) отклоняется рост человека, равный 190 см, от математического ожидания \n",
    "роста в популяции, в которой M(X) = 178 см и D(X) = 25 кв.см?"
   ]
  },
  {
   "cell_type": "code",
   "execution_count": 28,
   "id": "5c698658",
   "metadata": {},
   "outputs": [
    {
     "name": "stdout",
     "output_type": "stream",
     "text": [
      "Рост человека, равный 190 см, отклоняется от математического ожидания роста в популяции на 2.4 сигм.\n"
     ]
    }
   ],
   "source": [
    "growth = 190\n",
    "MX = 178\n",
    "DX = 25\n",
    "std = sqrt(DX)\n",
    "sigma = (growth-MX)/std\n",
    "print(\n",
    "    f'Рост человека, равный {growth} см, отклоняется от математического ожидания роста в популяции на {sigma} сигм.')"
   ]
  }
 ],
 "metadata": {
  "kernelspec": {
   "display_name": "Python 3 (ipykernel)",
   "language": "python",
   "name": "python3"
  },
  "language_info": {
   "codemirror_mode": {
    "name": "ipython",
    "version": 3
   },
   "file_extension": ".py",
   "mimetype": "text/x-python",
   "name": "python",
   "nbconvert_exporter": "python",
   "pygments_lexer": "ipython3",
   "version": "3.9.12"
  }
 },
 "nbformat": 4,
 "nbformat_minor": 5
}
