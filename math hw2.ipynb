{
 "cells": [
  {
   "cell_type": "code",
   "execution_count": 9,
   "id": "8166dbd5",
   "metadata": {},
   "outputs": [],
   "source": [
    "import pandas as pd\n",
    "import numpy as np\n",
    "from math import factorial as fl\n",
    "from os import system\n",
    "system(\"cls\")\n",
    "from math import exp"
   ]
  },
  {
   "cell_type": "code",
   "execution_count": null,
   "id": "d82bc802",
   "metadata": {},
   "outputs": [],
   "source": [
    "1. Вероятность того, что стрелок попадет в мишень, выстрелив один раз, равна 0.8. Стрелок выстрелил 100 раз. \n",
    "Найдите вероятность того, что стрелок попадет в цель ровно 85 раз."
   ]
  },
  {
   "cell_type": "code",
   "execution_count": 5,
   "id": "679565e8",
   "metadata": {},
   "outputs": [
    {
     "name": "stdout",
     "output_type": "stream",
     "text": [
      "Вероятность того, что стрелок попадет в цель ровно 85 раз из 100 = 0.0481\n"
     ]
    }
   ],
   "source": [
    "P100 = (fl(100) / (fl(85) * fl(100 - 85))) * 0.8 ** 85 * 0.2 ** (100 - 85)\n",
    "print(f'Вероятность того, что стрелок попадет в цель ровно 85 раз из 100 = {P100 :.4f}')"
   ]
  },
  {
   "cell_type": "code",
   "execution_count": null,
   "id": "037711da",
   "metadata": {},
   "outputs": [],
   "source": [
    "Ответ:\n",
    "Вероятность того, что стрелок попадет в цель ровно 85 раз из 100 = 0.0481=4.81%"
   ]
  },
  {
   "cell_type": "code",
   "execution_count": null,
   "id": "1b487b70",
   "metadata": {},
   "outputs": [],
   "source": [
    "2. Вероятность того, что лампочка перегорит в течение первого дня эксплуатации, равна 0.0004. В жилом комплексе после \n",
    "ремонта в один день включили 5000 новых лампочек. Какова вероятность, что ни одна из них не перегорит в первый день? \n",
    "Какова вероятность, что перегорят ровно две?"
   ]
  },
  {
   "cell_type": "code",
   "execution_count": null,
   "id": "5a333dce",
   "metadata": {},
   "outputs": [],
   "source": [
    "Используем распределение Пуассона."
   ]
  },
  {
   "cell_type": "code",
   "execution_count": 15,
   "id": "67e0bdf7",
   "metadata": {},
   "outputs": [
    {
     "name": "stdout",
     "output_type": "stream",
     "text": [
      "Вероятность того, что ни одна лампочка не перегорит в первый день = 0.1353\n",
      "\n",
      "Вероятность того, что перегорят ровно две лампочки = 0.2707\n"
     ]
    }
   ],
   "source": [
    "def probability(m, p, n):\n",
    "    λ = p*n\n",
    "    return exp(-λ)*(λ**m)/fl(m)\n",
    "\n",
    "\n",
    "m1 = 0\n",
    "m2 = 2\n",
    "p = 0.0004\n",
    "n = 5000\n",
    "print(\n",
    "    f'Вероятность того, что ни одна лампочка не перегорит в первый день = {probability(m1,p,n):.4f}')\n",
    "\n",
    "print(\n",
    "    f'\\nВероятность того, что перегорят ровно две лампочки = {probability(m2,p,n):.4f}')"
   ]
  },
  {
   "cell_type": "code",
   "execution_count": null,
   "id": "0eb673f3",
   "metadata": {},
   "outputs": [],
   "source": [
    "Ответ:\n",
    "Вероятность того, что ни одна лампочка не перегорит в первый день = 0.1353=13.53%\n",
    "\n",
    "Вероятность того, что перегорят ровно две лампочки = 0.2707=27.07%"
   ]
  },
  {
   "cell_type": "code",
   "execution_count": null,
   "id": "78190860",
   "metadata": {},
   "outputs": [],
   "source": [
    "3. Монету подбросили 144 раза. Какова вероятность, что орел выпадет ровно 70 раз?"
   ]
  },
  {
   "cell_type": "code",
   "execution_count": null,
   "id": "22f9ae8d",
   "metadata": {},
   "outputs": [],
   "source": [
    "А - монета выпала 40 раз\n",
    "\n",
    "n = 144\n",
    "\n",
    "k = 70\n",
    "\n",
    "p = 0.5\n",
    "\n",
    "q = 0.5"
   ]
  },
  {
   "cell_type": "code",
   "execution_count": 16,
   "id": "6f0dbd81",
   "metadata": {},
   "outputs": [
    {
     "name": "stdout",
     "output_type": "stream",
     "text": [
      "Вероятность того, что орел выпадет ровно 70 раз = 0.0628\n"
     ]
    }
   ],
   "source": [
    "P144 = (fl(144) / (fl(70) * fl(144 - 70))) * 0.5 ** 70 * 0.5 ** (144 - 70)\n",
    "\n",
    "print(f'Вероятность того, что орел выпадет ровно 70 раз = {P144 :.4f}')"
   ]
  },
  {
   "cell_type": "code",
   "execution_count": null,
   "id": "01b0bdca",
   "metadata": {},
   "outputs": [],
   "source": [
    "Ответ:\n",
    "Вероятность того, что орел выпадет ровно 70 раз = 0.0628=6.28%"
   ]
  },
  {
   "cell_type": "code",
   "execution_count": null,
   "id": "9b648589",
   "metadata": {},
   "outputs": [],
   "source": [
    "4. В первом ящике находится 10 мячей, из которых 7 - белые. Во втором ящике - 11 мячей, из которых 9 белых. \n",
    "Из каждого ящика вытаскивают случайным образом по два мяча. Какова вероятность того, что все мячи белые? \n",
    "Какова вероятность того, что ровно два мяча белые? Какова вероятность того, что хотя бы один мяч белый?"
   ]
  },
  {
   "cell_type": "code",
   "execution_count": 30,
   "id": "33d8cbbd",
   "metadata": {},
   "outputs": [],
   "source": [
    "def f_combination(n, k):\n",
    "    return (fl(n) / (fl(k) * fl(n-k)))"
   ]
  },
  {
   "cell_type": "code",
   "execution_count": 34,
   "id": "366777b0",
   "metadata": {},
   "outputs": [
    {
     "name": "stdout",
     "output_type": "stream",
     "text": [
      "Вероятность того, что все мячи белые = 0.3055\n"
     ]
    }
   ],
   "source": [
    "probability = f_combination(7, 2)*f_combination(3, 0)/f_combination(10, 2) * \\\n",
    "    f_combination(9, 2)*f_combination(2, 0)/f_combination(11, 2)\n",
    "print(\n",
    "    f\"Вероятность того, что все мячи белые = {probability:.4f}\")"
   ]
  },
  {
   "cell_type": "code",
   "execution_count": 35,
   "id": "cbfa1abb",
   "metadata": {},
   "outputs": [
    {
     "name": "stdout",
     "output_type": "stream",
     "text": [
      "Вероятность того, что ровно два мяча белые = 0.2048\n"
     ]
    }
   ],
   "source": [
    "probability = f_combination(7, 2)*f_combination(3, 0)/f_combination(10, 2) * f_combination(9, 0)*f_combination(2, 2)/f_combination(11, 2) \\\n",
    "    + f_combination(7, 1)*f_combination(3, 1)/f_combination(10, 2) * f_combination(9, 1)*f_combination(2, 1)/f_combination(11, 2) \\\n",
    "    + f_combination(7, 0)*f_combination(3, 2)/f_combination(10, 2) * \\\n",
    "    f_combination(9, 2)*f_combination(2, 0)/f_combination(11, 2)\n",
    "print(\n",
    "    f\"Вероятность того, что ровно два мяча белые = {probability:.4f}\")"
   ]
  },
  {
   "cell_type": "code",
   "execution_count": 36,
   "id": "5419dab5",
   "metadata": {},
   "outputs": [
    {
     "name": "stdout",
     "output_type": "stream",
     "text": [
      "Вероятность того, что хотя бы один мяч белый = 0.9988\n"
     ]
    }
   ],
   "source": [
    "probability = 1 - f_combination(7, 0)*f_combination(3, 2)/f_combination(\n",
    "    10, 2) * f_combination(9, 0)*f_combination(2, 2)/f_combination(11, 2)\n",
    "print(\n",
    "    f\"Вероятность того, что хотя бы один мяч белый = {probability:.4f}\")"
   ]
  },
  {
   "cell_type": "code",
   "execution_count": null,
   "id": "5f24296a",
   "metadata": {},
   "outputs": [],
   "source": [
    "Ответ:\n",
    "Вероятность того, что все мячи белые = 0.3055 = 30.55%\n",
    "Вероятность того, что ровно два мяча белые = 0.2048 = 20.48%\n",
    "Вероятность того, что хотя бы один мяч белый = 0.9988 = 99.88%"
   ]
  }
 ],
 "metadata": {
  "kernelspec": {
   "display_name": "Python 3 (ipykernel)",
   "language": "python",
   "name": "python3"
  },
  "language_info": {
   "codemirror_mode": {
    "name": "ipython",
    "version": 3
   },
   "file_extension": ".py",
   "mimetype": "text/x-python",
   "name": "python",
   "nbconvert_exporter": "python",
   "pygments_lexer": "ipython3",
   "version": "3.9.12"
  }
 },
 "nbformat": 4,
 "nbformat_minor": 5
}
